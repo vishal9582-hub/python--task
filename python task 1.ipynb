{
 "cells": [
  {
   "cell_type": "markdown",
   "id": "7c414f7b-b38a-44c4-b753-b4753e7862f7",
   "metadata": {},
   "source": [
    "BASIC PYTHON PROGRRAME"
   ]
  },
  {
   "cell_type": "code",
   "execution_count": 1,
   "id": "a174669a-3db1-4e76-86e9-a8471c5bc2e2",
   "metadata": {},
   "outputs": [
    {
     "name": "stdout",
     "output_type": "stream",
     "text": [
      "Hello world\n"
     ]
    }
   ],
   "source": [
    "print(\"Hello world\")"
   ]
  },
  {
   "cell_type": "code",
   "execution_count": 2,
   "id": "09753fdf-8e52-4e99-a1ac-236922cc537a",
   "metadata": {},
   "outputs": [
    {
     "name": "stdout",
     "output_type": "stream",
     "text": [
      "python task 1\n"
     ]
    }
   ],
   "source": [
    "print(\"python task 1\")"
   ]
  },
  {
   "cell_type": "code",
   "execution_count": null,
   "id": "916c3cfc-eaa5-4d2f-8d4d-44e363c8379f",
   "metadata": {},
   "outputs": [],
   "source": [
    "Python comments"
   ]
  },
  {
   "cell_type": "code",
   "execution_count": 12,
   "id": "fe5b5448-35a2-41c3-b46f-a1e2a50b32ec",
   "metadata": {},
   "outputs": [
    {
     "name": "stdout",
     "output_type": "stream",
     "text": [
      "hello world\n"
     ]
    }
   ],
   "source": [
    "# sample comment #single line comment\n",
    "\"\"\" \n",
    "this is a comment\n",
    "multi line comment  # this is multi line comment \n",
    "\"\"\"\n",
    "print(\"hello world\")"
   ]
  },
  {
   "cell_type": "markdown",
   "id": "9558434e-5e41-49ee-93c3-ee62a19278cf",
   "metadata": {},
   "source": [
    "HOW TO STORE IN VARIBLE"
   ]
  },
  {
   "cell_type": "code",
   "execution_count": 4,
   "id": "2a21c0ef-bffd-48b0-9d20-5762821bb5c1",
   "metadata": {},
   "outputs": [
    {
     "name": "stdout",
     "output_type": "stream",
     "text": [
      "10\n"
     ]
    }
   ],
   "source": [
    "a= 10\n",
    "print(a)"
   ]
  },
  {
   "cell_type": "code",
   "execution_count": 6,
   "id": "6a33dc49-0bce-45cf-b879-0da1e1ab00c5",
   "metadata": {},
   "outputs": [
    {
     "name": "stdout",
     "output_type": "stream",
     "text": [
      "45\n",
      "1459.9\n",
      "Ajay\n"
     ]
    }
   ],
   "source": [
    "age=45  #this is a integer value\n",
    "salary=1459.9  #this is a FLOAT VALUE\n",
    "name=\"Ajay\" # This is a string \n",
    "print(age)\n",
    "print(salary)\n",
    "print(name)\n"
   ]
  },
  {
   "cell_type": "markdown",
   "id": "38b4aebc-daa3-4c61-b94f-5564614b122a",
   "metadata": {},
   "source": [
    "DATA TYPES"
   ]
  },
  {
   "cell_type": "code",
   "execution_count": 9,
   "id": "9d7c00c4-7e5f-453d-a607-b705bf9aaf86",
   "metadata": {},
   "outputs": [],
   "source": [
    "a= \"Hello world\" #strings\n",
    "b= 50 #int\n",
    "c= 12.5 #float\n",
    "d=3j #complex\n",
    "e= [\"hello\",\"everyone\"]#lists\n",
    "f=(\"hello\",\"everyone\")#tuple\n",
    "g={\"name \":\"suraj\",\"age\":\"25\"}#dict\n",
    "h={\"hello\",\"everyone\"}#set\n",
    "i=True #bool\n"
   ]
  },
  {
   "cell_type": "markdown",
   "id": "1826296c-bb72-4898-be80-d83d0bf1aa34",
   "metadata": {},
   "source": [
    "OPERATORS"
   ]
  },
  {
   "cell_type": "raw",
   "id": "72b6b2ef-389c-4f0f-a054-eeb09cc3d7e3",
   "metadata": {},
   "source": [
    "Arthimatic operator"
   ]
  },
  {
   "cell_type": "code",
   "execution_count": 13,
   "id": "8cd48c67-1b47-4d12-9aeb-cd6421911b6a",
   "metadata": {},
   "outputs": [
    {
     "name": "stdout",
     "output_type": "stream",
     "text": [
      "60\n"
     ]
    }
   ],
   "source": [
    "a=40\n",
    "b= 20  #additon \n",
    "print(a+b)"
   ]
  },
  {
   "cell_type": "code",
   "execution_count": 15,
   "id": "7c01fd29-f6e3-43a0-929c-ae95b8a0372f",
   "metadata": {},
   "outputs": [
    {
     "name": "stdout",
     "output_type": "stream",
     "text": [
      "30\n",
      "40\n",
      "10.0\n",
      "10\n",
      "0\n",
      "400\n"
     ]
    }
   ],
   "source": [
    "print(50-20) #subtraction\n",
    "print(20*2)  #multiplication\n",
    "print(20/2)  #division\n",
    "print(20//2) #floordivison \n",
    "print(20%2)  #module\n",
    "print(20**2)  #expontenation(power)"
   ]
  },
  {
   "cell_type": "markdown",
   "id": "caa590da-316d-498a-867f-cad20143040a",
   "metadata": {},
   "source": [
    "Comparison operator"
   ]
  },
  {
   "cell_type": "code",
   "execution_count": 16,
   "id": "2362af0b-d0a7-40f2-b4b3-be04f5576761",
   "metadata": {},
   "outputs": [
    {
     "name": "stdout",
     "output_type": "stream",
     "text": [
      "True\n",
      "True\n",
      "True\n",
      "True\n",
      "True\n"
     ]
    }
   ],
   "source": [
    "a=10\n",
    "b=10  #equality comparison operator \n",
    "print(a==b)\n",
    "a=5\n",
    "b=10  #inequality comparison operator\n",
    "print(a!=b)\n",
    "a=50\n",
    "b=10  #Greater comparison operator\n",
    "print(a>b)\n",
    "a=5\n",
    "b=10  #less comparison operator \n",
    "print(a<b)\n",
    "a=5  #changing comparison operator  \n",
    "print(1<a<10)\n",
    "\n"
   ]
  },
  {
   "cell_type": "markdown",
   "id": "c5efe675-5327-4b77-9dfa-c5cdf68554db",
   "metadata": {},
   "source": [
    "Logical operator"
   ]
  },
  {
   "cell_type": "code",
   "execution_count": 21,
   "id": "92ace56f-7922-46fb-a4f7-1c4ca295e021",
   "metadata": {},
   "outputs": [
    {
     "name": "stdout",
     "output_type": "stream",
     "text": [
      "True\n",
      "True\n",
      "True\n"
     ]
    }
   ],
   "source": [
    "a=10\n",
    "b=2   #AND \n",
    "print(a>b and b<a)\n",
    "\n",
    "a=10 #NOT \n",
    "print(not(a<10 and a<10))\n",
    "\n",
    "a=10\n",
    "b=2   #or\n",
    "print(a>b or b>a)\n",
    "\n",
    "\n",
    "\n"
   ]
  },
  {
   "cell_type": "markdown",
   "id": "2013bfd0-4e80-498b-870c-f6c2df0ac93f",
   "metadata": {},
   "source": [
    "Membership operators"
   ]
  },
  {
   "cell_type": "code",
   "execution_count": 23,
   "id": "6d184f60-db7e-4707-93a0-979d5ad96c74",
   "metadata": {},
   "outputs": [
    {
     "name": "stdout",
     "output_type": "stream",
     "text": [
      "True\n",
      "True\n"
     ]
    }
   ],
   "source": [
    "string1=\"Hello\"\n",
    "print('H'in string1)  # in \n",
    "\n",
    "string1=\"Hello\"\n",
    "print('i'not in string1)  # not in \n"
   ]
  },
  {
   "cell_type": "markdown",
   "id": "13744aa4-c051-47e4-ab8b-794a7cc86aba",
   "metadata": {},
   "source": [
    "Identify operator"
   ]
  },
  {
   "cell_type": "code",
   "execution_count": 24,
   "id": "7933cd14-24a1-4fd8-99f5-c1ab38313113",
   "metadata": {},
   "outputs": [
    {
     "name": "stdout",
     "output_type": "stream",
     "text": [
      "True\n",
      "True\n"
     ]
    }
   ],
   "source": [
    "a=10\n",
    "b=10  #is\n",
    "print(a is b)\n",
    "a=5\n",
    "b=10  #is not\n",
    "print(a is not b)"
   ]
  },
  {
   "cell_type": "markdown",
   "id": "eeea7237-fc6d-4885-9cc2-d02d8ee2db07",
   "metadata": {},
   "source": [
    "Bitiwise operator"
   ]
  },
  {
   "cell_type": "code",
   "execution_count": 1,
   "id": "b25a52db-1061-42c9-aa78-7315b201bc7b",
   "metadata": {},
   "outputs": [
    {
     "name": "stdout",
     "output_type": "stream",
     "text": [
      "0b1010\n",
      "0b1000\n",
      "8\n",
      "10\n",
      "2\n"
     ]
    }
   ],
   "source": [
    "x=10\n",
    "y=8\n",
    "print(bin(x)) # bin() check the binary number\n",
    "print(bin(y))\n",
    "print(x&y) # & (and)\n",
    "print(x|y) # | (or)\n",
    "print(x^y) # ^  ()"
   ]
  },
  {
   "cell_type": "markdown",
   "id": "6df8d42f-cb56-47c8-9e93-61ca3a6eaafe",
   "metadata": {},
   "source": [
    "Conditional statement\n"
   ]
  },
  {
   "cell_type": "code",
   "execution_count": 4,
   "id": "00a4620b-4043-43ab-a722-4a32b938ebcf",
   "metadata": {},
   "outputs": [],
   "source": [
    "# There are three conditional statment:-\n",
    "# 1) if\n",
    "# 2) if else\n",
    "# 3) Nested if else\n",
    "# 4) if elif else"
   ]
  },
  {
   "cell_type": "code",
   "execution_count": 5,
   "id": "55ec55ec-7d07-4091-b575-5e47ec478bf4",
   "metadata": {},
   "outputs": [
    {
     "name": "stdout",
     "output_type": "stream",
     "text": [
      "10 is greater than 2\n"
     ]
    }
   ],
   "source": [
    "# 1) if\n",
    "a=10\n",
    "b= 2\n",
    "if 10>2:\n",
    "    print(\"10 is greater than 2\")"
   ]
  },
  {
   "cell_type": "code",
   "execution_count": 6,
   "id": "342666f5-3b8c-4819-91b4-e23acbce3b0f",
   "metadata": {},
   "outputs": [
    {
     "name": "stdout",
     "output_type": "stream",
     "text": [
      "No\n"
     ]
    }
   ],
   "source": [
    "# if-else\n",
    "x=3\n",
    "if x== 4 :\n",
    "    print(\"yes\")\n",
    "else :\n",
    "    print(\"No\")\n",
    "    "
   ]
  },
  {
   "cell_type": "code",
   "execution_count": 8,
   "id": "0ae01630-9a94-416c-b5ba-e104cdad9218",
   "metadata": {},
   "outputs": [
    {
     "name": "stdout",
     "output_type": "stream",
     "text": [
      "letter is A\n"
     ]
    }
   ],
   "source": [
    "# Nested if else\n",
    "letter = \"A\"\n",
    "\n",
    "if letter ==\"B\":\n",
    "    print(\"letter is B\")\n",
    "else:\n",
    "    if letter == \"c\":\n",
    "        print(\"letter is c\")\n",
    "    else:\n",
    "\n",
    "        if letter == \"A\":\n",
    "            print(\"letter is A\")\n",
    "\n",
    "        else:\n",
    "            print(\"letter isn't A, B and c\")\n",
    "            "
   ]
  },
  {
   "cell_type": "code",
   "execution_count": 9,
   "id": "59105a64-a47f-4d76-b346-c54b2576d351",
   "metadata": {},
   "outputs": [
    {
     "name": "stdout",
     "output_type": "stream",
     "text": [
      "letter is A\n"
     ]
    }
   ],
   "source": [
    "# if elif else\n",
    "letter =\"A\"\n",
    "\n",
    "if letter == \"B\" :\n",
    "    print(\"letter is B\")\n",
    "\n",
    "elif letter == \"C\":\n",
    "    print(\"letter is C\")\n",
    "elif letter == \"A\" :\n",
    "    print(\"letter is A\")\n",
    "else :\n",
    "    print(\"letter isn't A,B or C\")\n",
    "\n"
   ]
  },
  {
   "cell_type": "markdown",
   "id": "54e78dcc-e3bd-4f95-87d5-3948ce40e3c9",
   "metadata": {},
   "source": [
    "practicse question conditional statment"
   ]
  },
  {
   "cell_type": "code",
   "execution_count": 2,
   "id": "4089d5bb-08af-43f2-bbdf-d6032c5ccc47",
   "metadata": {},
   "outputs": [
    {
     "name": "stdin",
     "output_type": "stream",
     "text": [
      "enter the number:- 5\n"
     ]
    },
    {
     "name": "stdout",
     "output_type": "stream",
     "text": [
      "odd number\n"
     ]
    }
   ],
   "source": [
    "#  write a programme to check whether a number entered by user is even or odd\n",
    "\n",
    "num=int(input(\"enter the number:-\"))\n",
    "if num %2==0:\n",
    "    print(\"even number\")\n",
    "else:\n",
    "    print(\"odd number\")"
   ]
  },
  {
   "cell_type": "code",
   "execution_count": 4,
   "id": "e5b05774-2af7-4ebb-bd37-0dc6305bc7ee",
   "metadata": {},
   "outputs": [
    {
     "name": "stdin",
     "output_type": "stream",
     "text": [
      "enter the your age 70\n"
     ]
    },
    {
     "name": "stdout",
     "output_type": "stream",
     "text": [
      "number is divsible by\n"
     ]
    }
   ],
   "source": [
    "# write a programmme to check  whether a number is divsible  by 7 or not\n",
    "num=int(input(\"enter the your age\"))\n",
    "if num %7==0:\n",
    "    print(\"number is divsible by\")\n",
    "else:\n",
    "    print(\"number is no divsible by\")\n",
    "    \n",
    "    \n",
    "    "
   ]
  },
  {
   "cell_type": "markdown",
   "id": "320aea7f-c2f9-40e9-a2d0-f19eb7de5d1b",
   "metadata": {},
   "source": [
    "DATA STRUCTURE"
   ]
  },
  {
   "cell_type": "code",
   "execution_count": 6,
   "id": "1046f4a5-fe17-4b21-8a53-ab80a736a47b",
   "metadata": {},
   "outputs": [],
   "source": [
    "# COMMON DATA STRUCTURE LIKE:-\n",
    "# 1)Lists\n",
    "# 2) Tuples\n",
    "# 3) Dictionary"
   ]
  },
  {
   "cell_type": "code",
   "execution_count": 7,
   "id": "159ca1ca-7f86-4c2f-88f0-e3eec4079a1e",
   "metadata": {},
   "outputs": [
    {
     "name": "stdout",
     "output_type": "stream",
     "text": [
      "[1, 2, 3, 4, 5, 6, 7]\n"
     ]
    }
   ],
   "source": [
    "# Lists\n",
    "lists = [1,2,3,4,5,6,7]\n",
    "print (lists)\n",
    "\n"
   ]
  },
  {
   "cell_type": "markdown",
   "id": "449e5e4b-d0ee-4c27-9ad9-e4bd4108aa75",
   "metadata": {},
   "source": [
    "Practise Question lists"
   ]
  },
  {
   "cell_type": "code",
   "execution_count": 8,
   "id": "ce16ca6b-9adc-4f5c-8194-ff03c6eebd23",
   "metadata": {},
   "outputs": [
    {
     "name": "stdout",
     "output_type": "stream",
     "text": [
      "Largest number 10\n"
     ]
    }
   ],
   "source": [
    "# Write a python programme  to get  the largest number  from  a list \n",
    "a=[1,3,4,5,10,4,5,6]\n",
    "print(\"Largest number\",max(a))"
   ]
  },
  {
   "cell_type": "code",
   "execution_count": 11,
   "id": "a7d3afa3-9800-480a-885b-7722d0bb3224",
   "metadata": {},
   "outputs": [
    {
     "name": "stdout",
     "output_type": "stream",
     "text": [
      "[1]\n",
      "[1, 4]\n",
      "[1, 4, 9]\n",
      "[1, 4, 9, 16]\n",
      "[1, 4, 9, 16, 25]\n",
      "[1, 4, 9, 16, 25, 36]\n",
      "[1, 4, 9, 16, 25, 36, 49]\n"
     ]
    }
   ],
   "source": [
    "# Write a programme  to turn  every item of a lists  into  its  square\n",
    "\n",
    "number = [1,2,3,4,5,6,7]\n",
    "# result list\n",
    "res = []\n",
    "for i in number:\n",
    "    res.append(i*i)\n",
    "    print(res)    "
   ]
  },
  {
   "cell_type": "code",
   "execution_count": 13,
   "id": "b67ddf9b-554b-4230-aa0e-91d1d5bdf851",
   "metadata": {},
   "outputs": [
    {
     "name": "stdout",
     "output_type": "stream",
     "text": [
      "('apple', 'banana', 'mango')\n"
     ]
    }
   ],
   "source": [
    "# TUPLES\n",
    "thistuples = (\"apple\",'banana',\"mango\")\n",
    "print(thistuples)"
   ]
  },
  {
   "cell_type": "markdown",
   "id": "bea6e2b9-6096-40b5-bc2d-d0eaaf092709",
   "metadata": {},
   "source": [
    "practise question tuples"
   ]
  },
  {
   "cell_type": "code",
   "execution_count": 20,
   "id": "10adb9b5-c543-48da-bb15-c3fad2faaac8",
   "metadata": {},
   "outputs": [
    {
     "name": "stdout",
     "output_type": "stream",
     "text": [
      "[12, 45, 67, 89, 98]\n",
      "<class 'list'>\n",
      "(12, 45, 67, 89, 98)\n",
      "<class 'tuple'>\n"
     ]
    }
   ],
   "source": [
    "# Write a progrrame to convet a list to a tuple\n",
    "l = [12,45,67,89,98]\n",
    "print(l)\n",
    "print(type(l))\n",
    "t=tuple(l)\n",
    "print(t)\n",
    "print(type (t))\n",
    "\n"
   ]
  },
  {
   "cell_type": "code",
   "execution_count": 21,
   "id": "2b5af26d-e8e8-4592-959f-392f25fa4910",
   "metadata": {},
   "outputs": [
    {
     "name": "stdout",
     "output_type": "stream",
     "text": [
      "{'raj': 2, 'strive': 3, 'vikram': 4}\n"
     ]
    }
   ],
   "source": [
    "# Dictionary\n",
    "dictionary ={\"raj\":2 ,\"strive\":3,\"vikram\":4}\n",
    "print (dictionary)"
   ]
  },
  {
   "cell_type": "code",
   "execution_count": 25,
   "id": "951741a4-ba82-497a-a6b9-199f64c54271",
   "metadata": {},
   "outputs": [
    {
     "name": "stdout",
     "output_type": "stream",
     "text": [
      "{'rajesh': 34, 'ravi': 10, 'suraj': 3, 'yash': 56}\n"
     ]
    }
   ],
   "source": [
    "# write a programme to  sorting dictionary by key\n",
    "myDict ={\"ravi\":10,\"rajesh\":34,\"yash\":56,\"suraj\":3}\n",
    "mykeys = list(myDict.keys())\n",
    "mykeys.sort()\n",
    "sorted_dict = {i: myDict[i] for i in mykeys}\n",
    "print(sorted_dict)"
   ]
  }
 ],
 "metadata": {
  "kernelspec": {
   "display_name": "Python 3 (ipykernel)",
   "language": "python",
   "name": "python3"
  },
  "language_info": {
   "codemirror_mode": {
    "name": "ipython",
    "version": 3
   },
   "file_extension": ".py",
   "mimetype": "text/x-python",
   "name": "python",
   "nbconvert_exporter": "python",
   "pygments_lexer": "ipython3",
   "version": "3.11.7"
  }
 },
 "nbformat": 4,
 "nbformat_minor": 5
}
